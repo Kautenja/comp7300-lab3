{
 "cells": [
  {
   "cell_type": "code",
   "execution_count": 1,
   "metadata": {},
   "outputs": [],
   "source": [
    "import pandas as pd\n",
    "from matplotlib import pyplot as plt\n",
    "%matplotlib inline"
   ]
  },
  {
   "cell_type": "code",
   "execution_count": 2,
   "metadata": {},
   "outputs": [],
   "source": [
    "tests = 7\n",
    "N = 40000"
   ]
  },
  {
   "cell_type": "markdown",
   "metadata": {},
   "source": [
    "# Columnwise "
   ]
  },
  {
   "cell_type": "code",
   "execution_count": 3,
   "metadata": {},
   "outputs": [
    {
     "data": {
      "text/html": [
       "<div>\n",
       "<style>\n",
       "    .dataframe thead tr:only-child th {\n",
       "        text-align: right;\n",
       "    }\n",
       "\n",
       "    .dataframe thead th {\n",
       "        text-align: left;\n",
       "    }\n",
       "\n",
       "    .dataframe tbody tr th {\n",
       "        vertical-align: top;\n",
       "    }\n",
       "</style>\n",
       "<table border=\"1\" class=\"dataframe\">\n",
       "  <thead>\n",
       "    <tr style=\"text-align: right;\">\n",
       "      <th></th>\n",
       "      <th>$index_{max}$</th>\n",
       "      <th>$max$</th>\n",
       "      <th>index_{min}</th>\n",
       "      <th>min</th>\n",
       "      <th>avg</th>\n",
       "    </tr>\n",
       "  </thead>\n",
       "  <tbody>\n",
       "    <tr>\n",
       "      <th>0</th>\n",
       "      <td>1.0</td>\n",
       "      <td>34.547</td>\n",
       "      <td>1.0</td>\n",
       "      <td>34.547</td>\n",
       "      <td>34.547</td>\n",
       "    </tr>\n",
       "    <tr>\n",
       "      <th>1</th>\n",
       "      <td>1.0</td>\n",
       "      <td>34.547</td>\n",
       "      <td>2.0</td>\n",
       "      <td>33.957</td>\n",
       "      <td>34.252</td>\n",
       "    </tr>\n",
       "    <tr>\n",
       "      <th>2</th>\n",
       "      <td>1.0</td>\n",
       "      <td>34.547</td>\n",
       "      <td>3.0</td>\n",
       "      <td>33.145</td>\n",
       "      <td>33.883</td>\n",
       "    </tr>\n",
       "    <tr>\n",
       "      <th>3</th>\n",
       "      <td>1.0</td>\n",
       "      <td>34.547</td>\n",
       "      <td>3.0</td>\n",
       "      <td>33.145</td>\n",
       "      <td>33.856</td>\n",
       "    </tr>\n",
       "    <tr>\n",
       "      <th>4</th>\n",
       "      <td>1.0</td>\n",
       "      <td>34.547</td>\n",
       "      <td>3.0</td>\n",
       "      <td>33.145</td>\n",
       "      <td>33.806</td>\n",
       "    </tr>\n",
       "  </tbody>\n",
       "</table>\n",
       "</div>"
      ],
      "text/plain": [
       "   $index_{max}$   $max$  index_{min}     min     avg\n",
       "0            1.0  34.547          1.0  34.547  34.547\n",
       "1            1.0  34.547          2.0  33.957  34.252\n",
       "2            1.0  34.547          3.0  33.145  33.883\n",
       "3            1.0  34.547          3.0  33.145  33.856\n",
       "4            1.0  34.547          3.0  33.145  33.806"
      ]
     },
     "execution_count": 3,
     "metadata": {},
     "output_type": "execute_result"
    }
   ],
   "source": [
    "columnwise = pd.read_csv('./myInitializeMatrix-columnwise.csv', index_col=0)\n",
    "columnwise.head()"
   ]
  },
  {
   "cell_type": "code",
   "execution_count": 4,
   "metadata": {},
   "outputs": [],
   "source": [
    "end_columnwise = columnwise.iloc[columnwise.index[(columnwise.index % tests == 0)] - 1].sort_index()\n",
    "end_columnwise.index = pd.np.arange(len(end_columnwise)) + 1"
   ]
  },
  {
   "cell_type": "code",
   "execution_count": 5,
   "metadata": {},
   "outputs": [],
   "source": [
    "end_columnwise['total_avg'] = end_columnwise['avg'].mean()"
   ]
  },
  {
   "cell_type": "code",
   "execution_count": 6,
   "metadata": {},
   "outputs": [
    {
     "data": {
      "text/html": [
       "<div>\n",
       "<style>\n",
       "    .dataframe thead tr:only-child th {\n",
       "        text-align: right;\n",
       "    }\n",
       "\n",
       "    .dataframe thead th {\n",
       "        text-align: left;\n",
       "    }\n",
       "\n",
       "    .dataframe tbody tr th {\n",
       "        vertical-align: top;\n",
       "    }\n",
       "</style>\n",
       "<table border=\"1\" class=\"dataframe\">\n",
       "  <thead>\n",
       "    <tr style=\"text-align: right;\">\n",
       "      <th></th>\n",
       "      <th>$index_{max}$</th>\n",
       "      <th>$max$</th>\n",
       "      <th>index_{min}</th>\n",
       "      <th>min</th>\n",
       "      <th>avg</th>\n",
       "      <th>total_avg</th>\n",
       "    </tr>\n",
       "  </thead>\n",
       "  <tbody>\n",
       "    <tr>\n",
       "      <th>1</th>\n",
       "      <td>7.0</td>\n",
       "      <td>38.755</td>\n",
       "      <td>3.0</td>\n",
       "      <td>33.145</td>\n",
       "      <td>35.020</td>\n",
       "      <td>35.4792</td>\n",
       "    </tr>\n",
       "    <tr>\n",
       "      <th>2</th>\n",
       "      <td>1.0</td>\n",
       "      <td>36.253</td>\n",
       "      <td>5.0</td>\n",
       "      <td>35.293</td>\n",
       "      <td>35.594</td>\n",
       "      <td>35.4792</td>\n",
       "    </tr>\n",
       "    <tr>\n",
       "      <th>3</th>\n",
       "      <td>1.0</td>\n",
       "      <td>36.240</td>\n",
       "      <td>5.0</td>\n",
       "      <td>35.295</td>\n",
       "      <td>35.593</td>\n",
       "      <td>35.4792</td>\n",
       "    </tr>\n",
       "    <tr>\n",
       "      <th>4</th>\n",
       "      <td>1.0</td>\n",
       "      <td>36.206</td>\n",
       "      <td>5.0</td>\n",
       "      <td>35.153</td>\n",
       "      <td>35.588</td>\n",
       "      <td>35.4792</td>\n",
       "    </tr>\n",
       "    <tr>\n",
       "      <th>5</th>\n",
       "      <td>1.0</td>\n",
       "      <td>36.209</td>\n",
       "      <td>5.0</td>\n",
       "      <td>35.180</td>\n",
       "      <td>35.601</td>\n",
       "      <td>35.4792</td>\n",
       "    </tr>\n",
       "  </tbody>\n",
       "</table>\n",
       "</div>"
      ],
      "text/plain": [
       "   $index_{max}$   $max$  index_{min}     min     avg  total_avg\n",
       "1            7.0  38.755          3.0  33.145  35.020    35.4792\n",
       "2            1.0  36.253          5.0  35.293  35.594    35.4792\n",
       "3            1.0  36.240          5.0  35.295  35.593    35.4792\n",
       "4            1.0  36.206          5.0  35.153  35.588    35.4792\n",
       "5            1.0  36.209          5.0  35.180  35.601    35.4792"
      ]
     },
     "execution_count": 6,
     "metadata": {},
     "output_type": "execute_result"
    }
   ],
   "source": [
    "end_columnwise.head()"
   ]
  },
  {
   "cell_type": "code",
   "execution_count": 7,
   "metadata": {},
   "outputs": [
    {
     "data": {
      "text/plain": [
       "<matplotlib.legend.Legend at 0x1055146a0>"
      ]
     },
     "execution_count": 7,
     "metadata": {},
     "output_type": "execute_result"
    },
    {
     "data": {
      "image/png": "[encoded data removed]",
      "text/plain": [
       "<matplotlib.figure.Figure at 0x1055144a8>"
      ]
     },
     "metadata": {},
     "output_type": "display_data"
    }
   ],
   "source": [
    "ax = end_columnwise['avg'].plot(legend=True, title='Times to Initialize and Tranpose a 40000x40000 Matrix Columnwise')\n",
    "ax = end_columnwise['total_avg'].plot(legend=True, style=['--'])\n",
    "plt.legend(['Avg after 7th trial', 'total average'])"
   ]
  },
  {
   "cell_type": "code",
   "execution_count": 8,
   "metadata": {},
   "outputs": [
    {
     "data": {
      "text/plain": [
       "35.479200000000006"
      ]
     },
     "execution_count": 8,
     "metadata": {},
     "output_type": "execute_result"
    }
   ],
   "source": [
    "end_columnwise['avg'].mean()"
   ]
  },
  {
   "cell_type": "markdown",
   "metadata": {},
   "source": [
    "# Rowwise "
   ]
  },
  {
   "cell_type": "code",
   "execution_count": 9,
   "metadata": {},
   "outputs": [
    {
     "data": {
      "text/html": [
       "<div>\n",
       "<style>\n",
       "    .dataframe thead tr:only-child th {\n",
       "        text-align: right;\n",
       "    }\n",
       "\n",
       "    .dataframe thead th {\n",
       "        text-align: left;\n",
       "    }\n",
       "\n",
       "    .dataframe tbody tr th {\n",
       "        vertical-align: top;\n",
       "    }\n",
       "</style>\n",
       "<table border=\"1\" class=\"dataframe\">\n",
       "  <thead>\n",
       "    <tr style=\"text-align: right;\">\n",
       "      <th></th>\n",
       "      <th>$index_{max}$</th>\n",
       "      <th>$max$</th>\n",
       "      <th>index_{min}</th>\n",
       "      <th>min</th>\n",
       "      <th>avg</th>\n",
       "    </tr>\n",
       "  </thead>\n",
       "  <tbody>\n",
       "    <tr>\n",
       "      <th>0</th>\n",
       "      <td>1.0</td>\n",
       "      <td>8.436</td>\n",
       "      <td>1.0</td>\n",
       "      <td>8.436</td>\n",
       "      <td>8.436</td>\n",
       "    </tr>\n",
       "    <tr>\n",
       "      <th>1</th>\n",
       "      <td>1.0</td>\n",
       "      <td>8.436</td>\n",
       "      <td>2.0</td>\n",
       "      <td>5.422</td>\n",
       "      <td>6.929</td>\n",
       "    </tr>\n",
       "    <tr>\n",
       "      <th>2</th>\n",
       "      <td>1.0</td>\n",
       "      <td>8.436</td>\n",
       "      <td>2.0</td>\n",
       "      <td>5.422</td>\n",
       "      <td>6.437</td>\n",
       "    </tr>\n",
       "    <tr>\n",
       "      <th>3</th>\n",
       "      <td>1.0</td>\n",
       "      <td>8.436</td>\n",
       "      <td>4.0</td>\n",
       "      <td>4.905</td>\n",
       "      <td>6.054</td>\n",
       "    </tr>\n",
       "    <tr>\n",
       "      <th>4</th>\n",
       "      <td>1.0</td>\n",
       "      <td>8.436</td>\n",
       "      <td>5.0</td>\n",
       "      <td>4.718</td>\n",
       "      <td>5.787</td>\n",
       "    </tr>\n",
       "  </tbody>\n",
       "</table>\n",
       "</div>"
      ],
      "text/plain": [
       "   $index_{max}$  $max$  index_{min}    min    avg\n",
       "0            1.0  8.436          1.0  8.436  8.436\n",
       "1            1.0  8.436          2.0  5.422  6.929\n",
       "2            1.0  8.436          2.0  5.422  6.437\n",
       "3            1.0  8.436          4.0  4.905  6.054\n",
       "4            1.0  8.436          5.0  4.718  5.787"
      ]
     },
     "execution_count": 9,
     "metadata": {},
     "output_type": "execute_result"
    }
   ],
   "source": [
    "rowwise = pd.read_csv('./myInitializeMatrix-rowwise.csv', index_col=0)\n",
    "rowwise.head()"
   ]
  },
  {
   "cell_type": "code",
   "execution_count": 10,
   "metadata": {},
   "outputs": [],
   "source": [
    "end_rowwise = rowwise.iloc[rowwise.index[(rowwise.index % tests == 0)] - 1].sort_index()\n",
    "end_rowwise.index = pd.np.arange(len(end_rowwise)) + 1"
   ]
  },
  {
   "cell_type": "code",
   "execution_count": 11,
   "metadata": {},
   "outputs": [],
   "source": [
    "end_rowwise['total_avg'] = end_rowwise['avg'].mean()"
   ]
  },
  {
   "cell_type": "code",
   "execution_count": 12,
   "metadata": {},
   "outputs": [
    {
     "data": {
      "text/html": [
       "<div>\n",
       "<style>\n",
       "    .dataframe thead tr:only-child th {\n",
       "        text-align: right;\n",
       "    }\n",
       "\n",
       "    .dataframe thead th {\n",
       "        text-align: left;\n",
       "    }\n",
       "\n",
       "    .dataframe tbody tr th {\n",
       "        vertical-align: top;\n",
       "    }\n",
       "</style>\n",
       "<table border=\"1\" class=\"dataframe\">\n",
       "  <thead>\n",
       "    <tr style=\"text-align: right;\">\n",
       "      <th></th>\n",
       "      <th>$index_{max}$</th>\n",
       "      <th>$max$</th>\n",
       "      <th>index_{min}</th>\n",
       "      <th>min</th>\n",
       "      <th>avg</th>\n",
       "      <th>total_avg</th>\n",
       "    </tr>\n",
       "  </thead>\n",
       "  <tbody>\n",
       "    <tr>\n",
       "      <th>1</th>\n",
       "      <td>1.0</td>\n",
       "      <td>8.436</td>\n",
       "      <td>5.0</td>\n",
       "      <td>4.718</td>\n",
       "      <td>5.581</td>\n",
       "      <td>5.4344</td>\n",
       "    </tr>\n",
       "    <tr>\n",
       "      <th>2</th>\n",
       "      <td>1.0</td>\n",
       "      <td>8.265</td>\n",
       "      <td>7.0</td>\n",
       "      <td>4.778</td>\n",
       "      <td>5.425</td>\n",
       "      <td>5.4344</td>\n",
       "    </tr>\n",
       "    <tr>\n",
       "      <th>3</th>\n",
       "      <td>1.0</td>\n",
       "      <td>8.237</td>\n",
       "      <td>7.0</td>\n",
       "      <td>4.778</td>\n",
       "      <td>5.420</td>\n",
       "      <td>5.4344</td>\n",
       "    </tr>\n",
       "    <tr>\n",
       "      <th>4</th>\n",
       "      <td>1.0</td>\n",
       "      <td>8.038</td>\n",
       "      <td>7.0</td>\n",
       "      <td>4.724</td>\n",
       "      <td>5.371</td>\n",
       "      <td>5.4344</td>\n",
       "    </tr>\n",
       "    <tr>\n",
       "      <th>5</th>\n",
       "      <td>1.0</td>\n",
       "      <td>8.042</td>\n",
       "      <td>7.0</td>\n",
       "      <td>4.740</td>\n",
       "      <td>5.375</td>\n",
       "      <td>5.4344</td>\n",
       "    </tr>\n",
       "  </tbody>\n",
       "</table>\n",
       "</div>"
      ],
      "text/plain": [
       "   $index_{max}$  $max$  index_{min}    min    avg  total_avg\n",
       "1            1.0  8.436          5.0  4.718  5.581     5.4344\n",
       "2            1.0  8.265          7.0  4.778  5.425     5.4344\n",
       "3            1.0  8.237          7.0  4.778  5.420     5.4344\n",
       "4            1.0  8.038          7.0  4.724  5.371     5.4344\n",
       "5            1.0  8.042          7.0  4.740  5.375     5.4344"
      ]
     },
     "execution_count": 12,
     "metadata": {},
     "output_type": "execute_result"
    }
   ],
   "source": [
    "end_rowwise.head()"
   ]
  },
  {
   "cell_type": "code",
   "execution_count": 13,
   "metadata": {},
   "outputs": [
    {
     "data": {
      "text/plain": [
       "<matplotlib.legend.Legend at 0x10555aeb8>"
      ]
     },
     "execution_count": 13,
     "metadata": {},
     "output_type": "execute_result"
    },
    {
     "data": {
      "image/png": "[encoded data removed]",
      "text/plain": [
       "<matplotlib.figure.Figure at 0x105503ba8>"
      ]
     },
     "metadata": {},
     "output_type": "display_data"
    }
   ],
   "source": [
    "ax = end_rowwise['avg'].plot(legend=True, title='Times to Initialize and Tranpose a 40000x40000 Matrix Rowwise')\n",
    "ax = end_rowwise['total_avg'].plot(legend=True, style=['--'])\n",
    "plt.legend(['Avg after 7th trial', 'total average'])"
   ]
  },
  {
   "cell_type": "code",
   "execution_count": 14,
   "metadata": {},
   "outputs": [
    {
     "data": {
      "text/plain": [
       "5.434400000000001"
      ]
     },
     "execution_count": 14,
     "metadata": {},
     "output_type": "execute_result"
    }
   ],
   "source": [
    "end_rowwise['avg'].mean()"
   ]
  },
  {
   "cell_type": "markdown",
   "metadata": {},
   "source": [
    "# Comparisons"
   ]
  },
  {
   "cell_type": "code",
   "execution_count": 15,
   "metadata": {},
   "outputs": [
    {
     "data": {
      "image/png": "[encoded data removed]",
      "text/plain": [
       "<matplotlib.figure.Figure at 0x105761278>"
      ]
     },
     "metadata": {},
     "output_type": "display_data"
    }
   ],
   "source": [
    "title = 'Times to Initialize and Transpose a ${N}$x${N}$ Matrix'\n",
    "rowwise['avg'].plot(title=title.format(N=N), legend=True, lw=3)\n",
    "ax = columnwise['avg'].plot(legend=True, lw=3)\n",
    "ax.legend(['Rowwise', 'Columnwise'])\n",
    "ax.set_xlabel('Test Trial')\n",
    "ax.set_ylabel('Execution Time (s)')\n",
    "_ = ax.set_xticks(7 * (pd.np.arange(len(end_rowwise))))"
   ]
  },
  {
   "cell_type": "code",
   "execution_count": 17,
   "metadata": {},
   "outputs": [
    {
     "data": {
      "image/png": "[encoded data removed]",
      "text/plain": [
       "<matplotlib.figure.Figure at 0x10577af98>"
      ]
     },
     "metadata": {},
     "output_type": "display_data"
    }
   ],
   "source": [
    "title = 'Mean Times to Initialize and Transpose a ${N}$x${N}$ Matrix'\n",
    "end_rowwise['avg'].plot(title=title.format(N=N), legend=True, lw=3)\n",
    "ax = end_columnwise['avg'].plot(legend=True, lw=3)\n",
    "\n",
    "ax.set_xlabel('Test Trial')\n",
    "ax.set_ylabel('Mean Execution Time (s)')\n",
    "\n",
    "ax = end_rowwise['total_avg'].plot(legend=True, style=['--'], lw=3)\n",
    "ax = end_columnwise['total_avg'].plot(legend=True, style=['--'], lw=3)\n",
    "ax.legend(['Rowwise (7th Trial)', 'Columnwise (7th Trial)', 'Rowwise (Total)', 'Columnwise (Total)'])\n",
    "\n",
    "_ = ax.set_xticks(pd.np.arange(len(end_rowwise)) + 1)"
   ]
  },
  {
   "cell_type": "markdown",
   "metadata": {},
   "source": [
    " "
   ]
  }
 ],
 "metadata": {
  "kernelspec": {
   "display_name": "Python 3",
   "language": "python",
   "name": "python3"
  },
  "language_info": {
   "codemirror_mode": {
    "name": "ipython",
    "version": 3
   },
   "file_extension": ".py",
   "mimetype": "text/x-python",
   "name": "python",
   "nbconvert_exporter": "python",
   "pygments_lexer": "ipython3",
   "version": "3.6.2"
  }
 },
 "nbformat": 4,
 "nbformat_minor": 2
}
